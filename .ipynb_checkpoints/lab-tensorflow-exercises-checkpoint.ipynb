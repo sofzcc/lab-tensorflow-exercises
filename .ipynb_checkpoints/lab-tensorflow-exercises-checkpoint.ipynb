{
 "cells": [
  {
   "cell_type": "markdown",
   "id": "3a5cebdd-8051-4e1d-83e0-b4acf1449c1c",
   "metadata": {},
   "source": [
    "# Tensorflow exercices"
   ]
  },
  {
   "cell_type": "markdown",
   "id": "9b7ac934-4d62-469e-8385-7cd0f9129f22",
   "metadata": {},
   "source": [
    "Exercise 1: Create a TensorFlow constant tensor with values [1, 2, 3, 4, 5]."
   ]
  },
  {
   "cell_type": "code",
   "execution_count": 1,
   "id": "e86903f7",
   "metadata": {},
   "outputs": [
    {
     "name": "stderr",
     "output_type": "stream",
     "text": [
      "2024-06-01 16:11:50.216172: I tensorflow/core/platform/cpu_feature_guard.cc:210] This TensorFlow binary is optimized to use available CPU instructions in performance-critical operations.\n",
      "To enable the following instructions: AVX2 FMA, in other operations, rebuild TensorFlow with the appropriate compiler flags.\n"
     ]
    },
    {
     "name": "stdout",
     "output_type": "stream",
     "text": [
      "Exercise 1:\n",
      " [1 2 3 4 5]\n"
     ]
    }
   ],
   "source": [
    "import tensorflow as tf\n",
    "\n",
    "tensor1 = tf.constant([1, 2, 3, 4, 5])\n",
    "print(\"Exercise 1:\\n\", tensor1.numpy())"
   ]
  },
  {
   "cell_type": "markdown",
   "id": "a6aebc47-b310-4d2e-8ac9-21ce00410cec",
   "metadata": {},
   "source": [
    "Exercise 2: Create a TensorFlow variable tensor initialized with zeros of shape (3, 3)."
   ]
  },
  {
   "cell_type": "code",
   "execution_count": 2,
   "id": "eb84049b",
   "metadata": {},
   "outputs": [
    {
     "name": "stdout",
     "output_type": "stream",
     "text": [
      "Exercise 2:\n",
      " [[0. 0. 0.]\n",
      " [0. 0. 0.]\n",
      " [0. 0. 0.]]\n"
     ]
    }
   ],
   "source": [
    "tensor2 = tf.Variable(tf.zeros((3,3)))\n",
    "print(\"Exercise 2:\\n\", tensor2.numpy())"
   ]
  },
  {
   "cell_type": "markdown",
   "id": "e60991d8-79e7-48c5-8f28-6190f62a0ed3",
   "metadata": {},
   "source": [
    "Exercise 3: Perform matrix multiplication of two TensorFlow constant tensors A and B."
   ]
  },
  {
   "cell_type": "code",
   "execution_count": 3,
   "id": "6641d2cd",
   "metadata": {},
   "outputs": [
    {
     "name": "stdout",
     "output_type": "stream",
     "text": [
      "Exercise 3:\n",
      " Tensor A: \n",
      " [[1 5]\n",
      " [4 8]] \n",
      "\n",
      "Tensor B: \n",
      " [[2 2]\n",
      " [2 2]] \n",
      "\n",
      "Result:\n",
      " [[12 12]\n",
      " [24 24]]\n"
     ]
    }
   ],
   "source": [
    "a = tf.constant([[1,5],[4,8]])\n",
    "b = tf.constant([[2,2],[2,2]])\n",
    "\n",
    "result = tf.matmul(a,b)\n",
    "\n",
    "print(\"Exercise 3:\\n Tensor A: \\n\", a.numpy(), \"\\n\\nTensor B: \\n\", b.numpy(), \"\\n\\nResult:\\n\",  result.numpy())"
   ]
  },
  {
   "cell_type": "markdown",
   "id": "7fd7d031-c20b-48ee-82a9-227c9ce109ea",
   "metadata": {},
   "source": [
    "Exercise 4: Create a TensorFlow placeholder for a scalar value."
   ]
  },
  {
   "cell_type": "code",
   "execution_count": 33,
   "id": "2642db57",
   "metadata": {},
   "outputs": [
    {
     "name": "stdout",
     "output_type": "stream",
     "text": [
      "Tensor(\"scalar_placeholder_3:0\", shape=(), dtype=float32)\n"
     ]
    }
   ],
   "source": [
    "import tensorflow as tf\n",
    "\n",
    "tf.compat.v1.disable_eager_execution() #disable eager execution\n",
    "\n",
    "scalar_placeholder = tf.compat.v1.placeholder(dtype=tf.float32, shape=(), name='scalar_placeholder') #create a placeholder for a scalar value\n",
    "\n",
    "print(scalar_placeholder)\n",
    "\n"
   ]
  },
  {
   "cell_type": "code",
   "execution_count": 34,
   "id": "845f4fad",
   "metadata": {},
   "outputs": [
    {
     "ename": "ValueError",
     "evalue": "tf.enable_eager_execution must be called at program startup.",
     "output_type": "error",
     "traceback": [
      "\u001b[0;31m---------------------------------------------------------------------------\u001b[0m",
      "\u001b[0;31mValueError\u001b[0m                                Traceback (most recent call last)",
      "Cell \u001b[0;32mIn[34], line 1\u001b[0m\n\u001b[0;32m----> 1\u001b[0m tf\u001b[38;5;241m.\u001b[39mcompat\u001b[38;5;241m.\u001b[39mv1\u001b[38;5;241m.\u001b[39menable_eager_execution()\n",
      "File \u001b[0;32m/opt/anaconda3/lib/python3.11/site-packages/tensorflow/python/framework/ops.py:4944\u001b[0m, in \u001b[0;36menable_eager_execution\u001b[0;34m(config, device_policy, execution_mode)\u001b[0m\n\u001b[1;32m   4942\u001b[0m logging\u001b[38;5;241m.\u001b[39mvlog(\u001b[38;5;241m1\u001b[39m, \u001b[38;5;124m\"\u001b[39m\u001b[38;5;124mEnabling eager execution\u001b[39m\u001b[38;5;124m\"\u001b[39m)\n\u001b[1;32m   4943\u001b[0m \u001b[38;5;28;01mif\u001b[39;00m context\u001b[38;5;241m.\u001b[39mdefault_execution_mode \u001b[38;5;241m!=\u001b[39m context\u001b[38;5;241m.\u001b[39mEAGER_MODE:\n\u001b[0;32m-> 4944\u001b[0m   \u001b[38;5;28;01mreturn\u001b[39;00m enable_eager_execution_internal(\n\u001b[1;32m   4945\u001b[0m       config\u001b[38;5;241m=\u001b[39mconfig,\n\u001b[1;32m   4946\u001b[0m       device_policy\u001b[38;5;241m=\u001b[39mdevice_policy,\n\u001b[1;32m   4947\u001b[0m       execution_mode\u001b[38;5;241m=\u001b[39mexecution_mode,\n\u001b[1;32m   4948\u001b[0m       server_def\u001b[38;5;241m=\u001b[39m\u001b[38;5;28;01mNone\u001b[39;00m)\n",
      "File \u001b[0;32m/opt/anaconda3/lib/python3.11/site-packages/tensorflow/python/framework/ops.py:5008\u001b[0m, in \u001b[0;36menable_eager_execution_internal\u001b[0;34m(config, device_policy, execution_mode, server_def)\u001b[0m\n\u001b[1;32m   5005\u001b[0m   graph_mode_has_been_used \u001b[38;5;241m=\u001b[39m (\n\u001b[1;32m   5006\u001b[0m       _default_graph_stack\u001b[38;5;241m.\u001b[39m_global_default_graph \u001b[38;5;129;01mis\u001b[39;00m \u001b[38;5;129;01mnot\u001b[39;00m \u001b[38;5;28;01mNone\u001b[39;00m)  \u001b[38;5;66;03m# pylint: disable=protected-access\u001b[39;00m\n\u001b[1;32m   5007\u001b[0m   \u001b[38;5;28;01mif\u001b[39;00m graph_mode_has_been_used:\n\u001b[0;32m-> 5008\u001b[0m     \u001b[38;5;28;01mraise\u001b[39;00m \u001b[38;5;167;01mValueError\u001b[39;00m(\n\u001b[1;32m   5009\u001b[0m         \u001b[38;5;124m\"\u001b[39m\u001b[38;5;124mtf.enable_eager_execution must be called at program startup.\u001b[39m\u001b[38;5;124m\"\u001b[39m)\n\u001b[1;32m   5010\u001b[0m context\u001b[38;5;241m.\u001b[39mdefault_execution_mode \u001b[38;5;241m=\u001b[39m context\u001b[38;5;241m.\u001b[39mEAGER_MODE\n\u001b[1;32m   5011\u001b[0m \u001b[38;5;66;03m# pylint: disable=protected-access\u001b[39;00m\n",
      "\u001b[0;31mValueError\u001b[0m: tf.enable_eager_execution must be called at program startup."
     ]
    }
   ],
   "source": [
    "tf.compat.v1.enable_eager_execution() #re-enable eager execution\n"
   ]
  },
  {
   "cell_type": "markdown",
   "id": "6ccf6ee2-3c4e-4ed1-822d-9843419936bb",
   "metadata": {},
   "source": [
    "Exercise 5: Define a TensorFlow operation to compute the element-wise product of two tensors."
   ]
  },
  {
   "cell_type": "code",
   "execution_count": null,
   "id": "b18d53d8",
   "metadata": {},
   "outputs": [],
   "source": [
    "c = tf.constant([1,5])\n",
    "d = tf.constant([2,2])\n",
    "\n",
    "result_5 = tf.math.multiply(c,d)\n",
    "\n",
    "print(\"Exercise 3:\\n Tensor A: \\n\", c.numpy(), \"\\n\\nTensor B: \\n\", d.numpy(), \"\\n\\nResult:\\n\",  result_5.numpy())"
   ]
  },
  {
   "cell_type": "markdown",
   "id": "87ca09f9-7976-4d21-b32d-94e25488ad59",
   "metadata": {},
   "source": [
    "Exercise 6: Create a TensorFlow graph to compute the mean of a given tensor along a specified axis."
   ]
  },
  {
   "cell_type": "code",
   "execution_count": null,
   "id": "0cb7e86c",
   "metadata": {},
   "outputs": [],
   "source": [
    "tensor = tf.constant([[1,5],[4,8]])\n",
    "mean_tensor = tf.reduce_mean(tensor, axis=1)\n",
    "print(mean_tensor)"
   ]
  },
  {
   "cell_type": "markdown",
   "id": "51602021-3f03-4ab4-bdfc-fbc3dca0e321",
   "metadata": {},
   "source": [
    "Exercise 7: Implement a simple linear regression model using TensorFlow."
   ]
  },
  {
   "cell_type": "code",
   "execution_count": 12,
   "id": "9b659a5a",
   "metadata": {},
   "outputs": [
    {
     "data": {
      "text/html": [
       "<div>\n",
       "<style scoped>\n",
       "    .dataframe tbody tr th:only-of-type {\n",
       "        vertical-align: middle;\n",
       "    }\n",
       "\n",
       "    .dataframe tbody tr th {\n",
       "        vertical-align: top;\n",
       "    }\n",
       "\n",
       "    .dataframe thead th {\n",
       "        text-align: right;\n",
       "    }\n",
       "</style>\n",
       "<table border=\"1\" class=\"dataframe\">\n",
       "  <thead>\n",
       "    <tr style=\"text-align: right;\">\n",
       "      <th></th>\n",
       "      <th>Name</th>\n",
       "      <th>Type 1</th>\n",
       "      <th>Type 2</th>\n",
       "      <th>Combat Power</th>\n",
       "      <th>HP</th>\n",
       "      <th>Attack</th>\n",
       "      <th>Defense</th>\n",
       "      <th>Sp. Atk</th>\n",
       "      <th>Sp. Def</th>\n",
       "      <th>Speed</th>\n",
       "      <th>Generation</th>\n",
       "      <th>Legendary</th>\n",
       "    </tr>\n",
       "  </thead>\n",
       "  <tbody>\n",
       "    <tr>\n",
       "      <th>0</th>\n",
       "      <td>Bulbasaur</td>\n",
       "      <td>Grass</td>\n",
       "      <td>Poison</td>\n",
       "      <td>318</td>\n",
       "      <td>45</td>\n",
       "      <td>49</td>\n",
       "      <td>49</td>\n",
       "      <td>65</td>\n",
       "      <td>65</td>\n",
       "      <td>45</td>\n",
       "      <td>1</td>\n",
       "      <td>False</td>\n",
       "    </tr>\n",
       "    <tr>\n",
       "      <th>1</th>\n",
       "      <td>Ivysaur</td>\n",
       "      <td>Grass</td>\n",
       "      <td>Poison</td>\n",
       "      <td>405</td>\n",
       "      <td>60</td>\n",
       "      <td>62</td>\n",
       "      <td>63</td>\n",
       "      <td>80</td>\n",
       "      <td>80</td>\n",
       "      <td>60</td>\n",
       "      <td>1</td>\n",
       "      <td>False</td>\n",
       "    </tr>\n",
       "    <tr>\n",
       "      <th>2</th>\n",
       "      <td>Venusaur</td>\n",
       "      <td>Grass</td>\n",
       "      <td>Poison</td>\n",
       "      <td>525</td>\n",
       "      <td>80</td>\n",
       "      <td>82</td>\n",
       "      <td>83</td>\n",
       "      <td>100</td>\n",
       "      <td>100</td>\n",
       "      <td>80</td>\n",
       "      <td>1</td>\n",
       "      <td>False</td>\n",
       "    </tr>\n",
       "    <tr>\n",
       "      <th>3</th>\n",
       "      <td>Charmander</td>\n",
       "      <td>Fire</td>\n",
       "      <td>NaN</td>\n",
       "      <td>309</td>\n",
       "      <td>39</td>\n",
       "      <td>52</td>\n",
       "      <td>43</td>\n",
       "      <td>60</td>\n",
       "      <td>50</td>\n",
       "      <td>65</td>\n",
       "      <td>1</td>\n",
       "      <td>False</td>\n",
       "    </tr>\n",
       "    <tr>\n",
       "      <th>4</th>\n",
       "      <td>Charmeleon</td>\n",
       "      <td>Fire</td>\n",
       "      <td>NaN</td>\n",
       "      <td>405</td>\n",
       "      <td>58</td>\n",
       "      <td>64</td>\n",
       "      <td>58</td>\n",
       "      <td>80</td>\n",
       "      <td>65</td>\n",
       "      <td>80</td>\n",
       "      <td>1</td>\n",
       "      <td>False</td>\n",
       "    </tr>\n",
       "  </tbody>\n",
       "</table>\n",
       "</div>"
      ],
      "text/plain": [
       "         Name Type 1  Type 2  Combat Power  HP  Attack  Defense  Sp. Atk  \\\n",
       "0   Bulbasaur  Grass  Poison           318  45      49       49       65   \n",
       "1     Ivysaur  Grass  Poison           405  60      62       63       80   \n",
       "2    Venusaur  Grass  Poison           525  80      82       83      100   \n",
       "3  Charmander   Fire     NaN           309  39      52       43       60   \n",
       "4  Charmeleon   Fire     NaN           405  58      64       58       80   \n",
       "\n",
       "   Sp. Def  Speed  Generation  Legendary  \n",
       "0       65     45           1      False  \n",
       "1       80     60           1      False  \n",
       "2      100     80           1      False  \n",
       "3       50     65           1      False  \n",
       "4       65     80           1      False  "
      ]
     },
     "execution_count": 12,
     "metadata": {},
     "output_type": "execute_result"
    }
   ],
   "source": [
    "import numpy as np\n",
    "import pandas as pd\n",
    "import tensorflow as tf\n",
    "from sklearn.linear_model import LinearRegression\n",
    "\n",
    "from sklearn.model_selection import train_test_split\n",
    "from sklearn.preprocessing import StandardScaler\n",
    "import matplotlib.pyplot as plt\n",
    "\n",
    "\n",
    "\n",
    "#Load the dataset \n",
    "\n",
    "data = pd.read_csv('pokemon.csv')\n",
    "\n",
    "data.head()\n",
    "\n",
    "\n",
    "\n"
   ]
  },
  {
   "cell_type": "code",
   "execution_count": 38,
   "id": "7417f0d4",
   "metadata": {},
   "outputs": [
    {
     "name": "stdout",
     "output_type": "stream",
     "text": [
      "Epoch 1/20\n",
      "\u001b[1m4/4\u001b[0m \u001b[32m━━━━━━━━━━━━━━━━━━━━\u001b[0m\u001b[37m\u001b[0m \u001b[1m0s\u001b[0m 2ms/step - loss: 178058.2656 - mean_squared_error: 178058.2656  \n",
      "Epoch 2/20\n",
      "\u001b[1m4/4\u001b[0m \u001b[32m━━━━━━━━━━━━━━━━━━━━\u001b[0m\u001b[37m\u001b[0m \u001b[1m0s\u001b[0m 4ms/step - loss: 182986.5000 - mean_squared_error: 182986.5000 \n",
      "Epoch 3/20\n"
     ]
    },
    {
     "name": "stderr",
     "output_type": "stream",
     "text": [
      "/opt/anaconda3/lib/python3.11/site-packages/keras/src/backend/tensorflow/trainer.py:71: UserWarning: The model does not have any trainable weights.\n",
      "  warnings.warn(\"The model does not have any trainable weights.\")\n"
     ]
    },
    {
     "name": "stdout",
     "output_type": "stream",
     "text": [
      "\u001b[1m4/4\u001b[0m \u001b[32m━━━━━━━━━━━━━━━━━━━━\u001b[0m\u001b[37m\u001b[0m \u001b[1m0s\u001b[0m 2ms/step - loss: 178555.8750 - mean_squared_error: 178555.8750 \n",
      "Epoch 4/20\n",
      "\u001b[1m4/4\u001b[0m \u001b[32m━━━━━━━━━━━━━━━━━━━━\u001b[0m\u001b[37m\u001b[0m \u001b[1m0s\u001b[0m 3ms/step - loss: 183154.6719 - mean_squared_error: 183154.6719 \n",
      "Epoch 5/20\n",
      "\u001b[1m4/4\u001b[0m \u001b[32m━━━━━━━━━━━━━━━━━━━━\u001b[0m\u001b[37m\u001b[0m \u001b[1m0s\u001b[0m 3ms/step - loss: 189287.5000 - mean_squared_error: 189287.5000 \n",
      "Epoch 6/20\n",
      "\u001b[1m4/4\u001b[0m \u001b[32m━━━━━━━━━━━━━━━━━━━━\u001b[0m\u001b[37m\u001b[0m \u001b[1m0s\u001b[0m 2ms/step - loss: 178020.2656 - mean_squared_error: 178020.2656 \n",
      "Epoch 7/20\n",
      "\u001b[1m4/4\u001b[0m \u001b[32m━━━━━━━━━━━━━━━━━━━━\u001b[0m\u001b[37m\u001b[0m \u001b[1m0s\u001b[0m 2ms/step - loss: 178951.3906 - mean_squared_error: 178951.3906 \n",
      "Epoch 8/20\n",
      "\u001b[1m4/4\u001b[0m \u001b[32m━━━━━━━━━━━━━━━━━━━━\u001b[0m\u001b[37m\u001b[0m \u001b[1m0s\u001b[0m 2ms/step - loss: 179118.8906 - mean_squared_error: 179118.8906 \n",
      "Epoch 9/20\n",
      "\u001b[1m4/4\u001b[0m \u001b[32m━━━━━━━━━━━━━━━━━━━━\u001b[0m\u001b[37m\u001b[0m \u001b[1m0s\u001b[0m 1ms/step - loss: 180870.8906 - mean_squared_error: 180870.8906 \n",
      "Epoch 10/20\n",
      "\u001b[1m4/4\u001b[0m \u001b[32m━━━━━━━━━━━━━━━━━━━━\u001b[0m\u001b[37m\u001b[0m \u001b[1m0s\u001b[0m 2ms/step - loss: 180986.9688 - mean_squared_error: 180986.9688 \n",
      "Epoch 11/20\n",
      "\u001b[1m4/4\u001b[0m \u001b[32m━━━━━━━━━━━━━━━━━━━━\u001b[0m\u001b[37m\u001b[0m \u001b[1m0s\u001b[0m 2ms/step - loss: 181141.0000 - mean_squared_error: 181141.0000 \n",
      "Epoch 12/20\n",
      "\u001b[1m4/4\u001b[0m \u001b[32m━━━━━━━━━━━━━━━━━━━━\u001b[0m\u001b[37m\u001b[0m \u001b[1m0s\u001b[0m 1ms/step - loss: 180155.0625 - mean_squared_error: 180155.0625 \n",
      "Epoch 13/20\n",
      "\u001b[1m4/4\u001b[0m \u001b[32m━━━━━━━━━━━━━━━━━━━━\u001b[0m\u001b[37m\u001b[0m \u001b[1m0s\u001b[0m 2ms/step - loss: 177892.9531 - mean_squared_error: 177892.9531 \n",
      "Epoch 14/20\n",
      "\u001b[1m4/4\u001b[0m \u001b[32m━━━━━━━━━━━━━━━━━━━━\u001b[0m\u001b[37m\u001b[0m \u001b[1m0s\u001b[0m 1ms/step - loss: 177231.9688 - mean_squared_error: 177231.9688 \n",
      "Epoch 15/20\n",
      "\u001b[1m4/4\u001b[0m \u001b[32m━━━━━━━━━━━━━━━━━━━━\u001b[0m\u001b[37m\u001b[0m \u001b[1m0s\u001b[0m 2ms/step - loss: 185985.7188 - mean_squared_error: 185985.7188 \n",
      "Epoch 16/20\n",
      "\u001b[1m4/4\u001b[0m \u001b[32m━━━━━━━━━━━━━━━━━━━━\u001b[0m\u001b[37m\u001b[0m \u001b[1m0s\u001b[0m 2ms/step - loss: 180270.8281 - mean_squared_error: 180270.8281 \n",
      "Epoch 17/20\n",
      "\u001b[1m4/4\u001b[0m \u001b[32m━━━━━━━━━━━━━━━━━━━━\u001b[0m\u001b[37m\u001b[0m \u001b[1m0s\u001b[0m 1ms/step - loss: 180104.4531 - mean_squared_error: 180104.4531 \n",
      "Epoch 18/20\n",
      "\u001b[1m4/4\u001b[0m \u001b[32m━━━━━━━━━━━━━━━━━━━━\u001b[0m\u001b[37m\u001b[0m \u001b[1m0s\u001b[0m 2ms/step - loss: 188494.7188 - mean_squared_error: 188494.7188 \n",
      "Epoch 19/20\n",
      "\u001b[1m4/4\u001b[0m \u001b[32m━━━━━━━━━━━━━━━━━━━━\u001b[0m\u001b[37m\u001b[0m \u001b[1m0s\u001b[0m 2ms/step - loss: 185300.9375 - mean_squared_error: 185300.9375 \n",
      "Epoch 20/20\n",
      "\u001b[1m4/4\u001b[0m \u001b[32m━━━━━━━━━━━━━━━━━━━━\u001b[0m\u001b[37m\u001b[0m \u001b[1m0s\u001b[0m 2ms/step - loss: 185221.5312 - mean_squared_error: 185221.5312 \n"
     ]
    },
    {
     "data": {
      "image/png": "[encoded data removed]",
      "text/plain": [
       "<Figure size 640x480 with 1 Axes>"
      ]
     },
     "metadata": {},
     "output_type": "display_data"
    }
   ],
   "source": [
    "#Set the features and target\n",
    "\n",
    "features = ['HP', 'Attack', 'Defense', 'Sp. Atk', 'Sp. Def', 'Speed']\n",
    "target = ['Combat Power']\n",
    "\n",
    "\n",
    "#Preprocess the data by extracting the features and target as numpy arrays\n",
    "\n",
    "X = data[features].values\n",
    "y = data[target].values\n",
    "\n",
    "#Split the dataset into train set and test set\n",
    "\n",
    "X_train, X_test, y_train, y_test = train_test_split(X, y, test_size=0.2, random_state=42)\n",
    "\n",
    "#Standardize the features and fit the model\n",
    "\n",
    "scaler = StandardScaler()  #Initialize the scaler\n",
    "X_train = scaler.fit_transform(X_train)  #Fit the scaler on the training data and transform it\n",
    "X_test = scaler.transform(X_test)  #Transform the test data using the scaler\n",
    "\n",
    "\n",
    "#Create the linear regression. model\n",
    "class LinearModel(tf.keras.Model):\n",
    "    \n",
    "    #Initialize the parent class, the weights and bias\n",
    "    def __init__(self):  \n",
    "        super().__init__()  \n",
    "        self.W = tf.Variable(tf.random.normal([X_train.shape[1], 1]))\n",
    "        self.b = tf.Variable(tf.zeros([1, 1]))\n",
    "    \n",
    "    #Define the linear regression\n",
    "    def __call__(self,x):\n",
    "        return tf.add(tf.matmul(x, self.W),self.b)\n",
    "    \n",
    "\n",
    "    \n",
    "#Instantiate the model\n",
    "model = LinearModel()\n",
    "\n",
    "\n",
    "#Compile the model using SGD as the optimizer and calculating the loss with MSE\n",
    "optimizer = tf.keras.optimizers.SGD(learning_rate=0.01)\n",
    "model.compile(optimizer=optimizer, loss='mean_squared_error')\n",
    "\n",
    "\n",
    "#Train the model in 20 epochs\n",
    "history = model.fit(\n",
    "            X_train, y_train,\n",
    "            epochs = 20,\n",
    "            verbose = 1)\n",
    "\n",
    "#Create a new LinearRegression model for plotting\n",
    "regr = LinearRegression()\n",
    "X_train_hp = X_train[:, 0].reshape(-1, 1) #Extract the HP feature for fitting the LinearRegression model\n",
    "regr.fit(X_train_hp, y_train)\n",
    "\n",
    "# Predict the combat power using the linear regression model\n",
    "hp_range = np.linspace(X_train_hp.min(), X_train_hp.max(), 100).reshape(-1, 1) #Create a range of HP values for prediction\n",
    "combat_power_pred = regr.predict(hp_range) #Predict combat power for the range of HP values\n",
    "\n",
    "# Plot the results\n",
    "plt.scatter(X_train_hp, y_train, color='blue', label='Actual Combat Power')\n",
    "plt.plot(hp_range, combat_power_pred, color='red', linewidth=2, label='Predicted Combat Power')\n",
    "plt.xlabel('HP')\n",
    "plt.ylabel('Combat Power')\n",
    "plt.title('Combat Power vs. HP')\n",
    "plt.legend()\n",
    "plt.show()\n"
   ]
  },
  {
   "cell_type": "markdown",
   "id": "3abe932c-332d-48d9-a98d-64d98d3e7127",
   "metadata": {},
   "source": [
    "Exercise 8: Create a TensorFlow dataset from a NumPy array."
   ]
  },
  {
   "cell_type": "code",
   "execution_count": null,
   "id": "f3e7f810",
   "metadata": {},
   "outputs": [],
   "source": [
    "numpy_arr = np.random.rand(4,5)\n",
    "\n",
    "dataset = tf.data.Dataset.from_tensor_slices(numpy_arr)\n",
    "\n",
    "for element in dataset:\n",
    "    print(element.numpy())"
   ]
  },
  {
   "cell_type": "markdown",
   "id": "546d0040-6c83-430d-af7f-afadd22e03c2",
   "metadata": {},
   "source": [
    "Exercise 9: Define a custom TensorFlow function using tf.function decorator."
   ]
  },
  {
   "cell_type": "code",
   "execution_count": null,
   "id": "d804e18c",
   "metadata": {},
   "outputs": [],
   "source": [
    "@tf.function\n",
    "\n",
    "def birth_year(current_year, age):\n",
    "    birth_year = current_year - age\n",
    "    return birth_year\n",
    "\n",
    "result = birth_year(2024,30)\n",
    "print(result)"
   ]
  },
  {
   "cell_type": "markdown",
   "id": "c9b39e03-dfea-42af-8821-fb950df430b1",
   "metadata": {},
   "source": [
    "Exercise 10: Load and preprocess an image using TensorFlow."
   ]
  },
  {
   "cell_type": "code",
   "execution_count": 43,
   "id": "3f0c6925",
   "metadata": {},
   "outputs": [
    {
     "name": "stdout",
     "output_type": "stream",
     "text": [
      "tf.Tensor(\n",
      "[[[0.16320528 0.3239896  0.4494798 ]\n",
      "  [0.16862746 0.32941177 0.45490196]\n",
      "  [0.17254902 0.33333334 0.45882353]\n",
      "  ...\n",
      "  [0.17254902 0.3254902  0.45490196]\n",
      "  [0.17254902 0.3254902  0.45490196]\n",
      "  [0.16712663 0.32006782 0.44947958]]\n",
      "\n",
      " [[0.16862746 0.32941177 0.45490196]\n",
      "  [0.17254902 0.33333334 0.45882353]\n",
      "  [0.1764706  0.3372549  0.4627451 ]\n",
      "  ...\n",
      "  [0.1764706  0.32941177 0.45882353]\n",
      "  [0.1764706  0.32941177 0.45882353]\n",
      "  [0.17254902 0.3254902  0.45490196]]\n",
      "\n",
      " [[0.18039216 0.34117648 0.46666667]\n",
      "  [0.18039216 0.34117648 0.46666667]\n",
      "  [0.18431373 0.34509805 0.47058824]\n",
      "  ...\n",
      "  [0.17619048 0.32913166 0.45854342]\n",
      "  [0.17619048 0.32913166 0.45854342]\n",
      "  [0.17619048 0.32913166 0.45854342]]\n",
      "\n",
      " ...\n",
      "\n",
      " [[0.43781528 0.4062225  0.25502208]\n",
      "  [0.45762318 0.41046423 0.2184068 ]\n",
      "  [0.4630252  0.4232493  0.23081233]\n",
      "  ...\n",
      "  [0.27422953 0.34481776 0.39187658]\n",
      "  [0.25490198 0.3254902  0.37254903]\n",
      "  [0.25013977 0.320728   0.36778685]]\n",
      "\n",
      " [[0.46506622 0.41046438 0.25980407]\n",
      "  [0.4460382  0.4082232  0.20856388]\n",
      "  [0.43153173 0.4252896  0.30112088]\n",
      "  ...\n",
      "  [0.26302537 0.3336136  0.38067243]\n",
      "  [0.25490198 0.3254902  0.37254903]\n",
      "  [0.25013977 0.320728   0.36778685]]\n",
      "\n",
      " [[0.4736882  0.42354813 0.24727753]\n",
      "  [0.42351153 0.4170893  0.359928  ]\n",
      "  [0.4996772  0.5906544  0.62763107]\n",
      "  ...\n",
      "  [0.25882354 0.32941177 0.3764706 ]\n",
      "  [0.25490198 0.3254902  0.37254903]\n",
      "  [0.25013977 0.320728   0.36778685]]], shape=(224, 224, 3), dtype=float32)\n"
     ]
    }
   ],
   "source": [
    "from PIL import Image\n",
    "import requests\n",
    "import numpy as np\n",
    "import tensorflow as tf\n",
    "from io import BytesIO\n",
    "\n",
    "\n",
    "def load(url): #Loads the image from a given url\n",
    "        response = requests.get(url)  #Sends a GET request to the URL\n",
    "        img = Image.open(BytesIO(response.content))  #Opens the image from the response content\n",
    "        img = img.convert(\"RGB\")  #Ensures the image is in RGB format\n",
    "        img = tf.convert_to_tensor(np.array(img))  #Converts the image into a Tensorflow tensor \n",
    "        return img\n",
    "\n",
    "def preprocess(img):\n",
    "    resized_img = tf.image.resize(img, [224,224]) #Resizes the image to a standard size 224x224\n",
    "    processed_img = resized_img / 255 #Normalizes the pixels value to [0, 1]\n",
    "    return processed_img\n",
    "\n",
    "path = \"https://tse1.mm.bing.net/th/id/OIG3.neGtPqgncytWGwkFEHTK?pid=ImgGn\" \n",
    "image = load(path)  #Loads the image from the given path (url)\n",
    "result = preprocess(image) \n",
    "\n",
    "print(result) #Prints the preprocessed image in a tensorflow tensor "
   ]
  },
  {
   "cell_type": "markdown",
   "id": "4a60fc5d-b32b-45df-8dca-696de227947f",
   "metadata": {},
   "source": [
    "Exercise 11: Neural Network\n",
    "Build and train a neural network with one hidden layer on the MNIST dataset."
   ]
  },
  {
   "cell_type": "code",
   "execution_count": 56,
   "id": "fa4818c6-449d-4f26-8b81-fcc67789a5c2",
   "metadata": {},
   "outputs": [
    {
     "name": "stdout",
     "output_type": "stream",
     "text": [
      "Epoch 1/10\n",
      "1875/1875 - 14s - 7ms/step - accuracy: 0.9410 - loss: 0.2088\n",
      "Epoch 2/10\n",
      "1875/1875 - 13s - 7ms/step - accuracy: 0.9769 - loss: 0.0794\n",
      "Epoch 3/10\n",
      "1875/1875 - 13s - 7ms/step - accuracy: 0.9822 - loss: 0.0606\n",
      "Epoch 4/10\n",
      "1875/1875 - 13s - 7ms/step - accuracy: 0.9849 - loss: 0.0507\n",
      "Epoch 5/10\n",
      "1875/1875 - 14s - 8ms/step - accuracy: 0.9876 - loss: 0.0424\n",
      "Epoch 6/10\n",
      "1875/1875 - 13s - 7ms/step - accuracy: 0.9892 - loss: 0.0370\n",
      "Epoch 7/10\n",
      "1875/1875 - 13s - 7ms/step - accuracy: 0.9904 - loss: 0.0318\n",
      "Epoch 8/10\n",
      "1875/1875 - 13s - 7ms/step - accuracy: 0.9918 - loss: 0.0277\n",
      "Epoch 9/10\n",
      "1875/1875 - 13s - 7ms/step - accuracy: 0.9934 - loss: 0.0229\n",
      "Epoch 10/10\n",
      "1875/1875 - 13s - 7ms/step - accuracy: 0.9937 - loss: 0.0201\n",
      "\u001b[1m313/313\u001b[0m \u001b[32m━━━━━━━━━━━━━━━━━━━━\u001b[0m\u001b[37m\u001b[0m \u001b[1m1s\u001b[0m 2ms/step - accuracy: 0.9807 - loss: 0.0677\n",
      "Test accuracy: 0.9846000075340271\n",
      "Test loss: 0.055431660264730453\n",
      "\u001b[1m313/313\u001b[0m \u001b[32m━━━━━━━━━━━━━━━━━━━━\u001b[0m\u001b[37m\u001b[0m \u001b[1m1s\u001b[0m 2ms/step\n",
      "7\n"
     ]
    }
   ],
   "source": [
    "import matplotlib.pyplot as plt\n",
    "import numpy as np\n",
    "from tensorflow.keras import layers, models\n",
    "import tensorflow as tf\n",
    "\n",
    "\n",
    "#Load the MNIST dataset \n",
    "\n",
    "(train_images, train_labels), (test_images, test_labels) = tf.keras.datasets.mnist.load_data()\n",
    "\n",
    "\n",
    "#Preprocess the images and reshape to add a channel dimension\n",
    "train_images = train_images / 255\n",
    "test_images = test_images / 255\n",
    "\n",
    "train_images = train_images.reshape((train_images.shape[0], 28, 28, 1))\n",
    "test_images = test_images.reshape((test_images.shape[0], 28, 28, 1))\n",
    "\n",
    "#Initialize the Sequential model and add 3 Conv2D layers and 2 Maxpooling2D\n",
    "model = models.Sequential()\n",
    "model.add(layers.Conv2D(32, (3, 3), activation='relu', input_shape=(28, 28, 1)))\n",
    "model.add(layers.MaxPooling2D((2, 2)))\n",
    "\n",
    "\n",
    "#Add dense layers\n",
    "model.add(layers.Flatten())\n",
    "model.add(layers.Dense(10, activation='softmax'))\n",
    "\n",
    "\n",
    "#Compile the model using Adam as the optimizer and calculating the loss with 'sparse_categorical_crossentropy'\n",
    "model.compile(optimizer='adam',\n",
    "              loss='sparse_categorical_crossentropy',\n",
    "              metrics=['accuracy'])\n",
    "\n",
    "\n",
    "#Train the model in 10 epochs\n",
    "history = model.fit(\n",
    "            train_images, train_labels,\n",
    "            epochs = 10,\n",
    "            verbose = 2)\n",
    "\n",
    "\n",
    "#Measure test loss and accuracy and print\n",
    "test_loss, test_acc = model.evaluate(test_images, test_labels)\n",
    "print(f\"Test accuracy: {test_acc}\")\n",
    "print(f\"Test loss: {test_loss}\")\n",
    "\n",
    "#Predict using my model\n",
    "predictions = model.predict(test_images)\n",
    "prediction = np.argmax(predictions[0])\n",
    "print(prediction)\n",
    "\n"
   ]
  },
  {
   "cell_type": "code",
   "execution_count": null,
   "id": "e56fae32",
   "metadata": {},
   "outputs": [],
   "source": []
  }
 ],
 "metadata": {
  "kernelspec": {
   "display_name": "Python 3 (ipykernel)",
   "language": "python",
   "name": "python3"
  },
  "language_info": {
   "codemirror_mode": {
    "name": "ipython",
    "version": 3
   },
   "file_extension": ".py",
   "mimetype": "text/x-python",
   "name": "python",
   "nbconvert_exporter": "python",
   "pygments_lexer": "ipython3",
   "version": "3.11.7"
  }
 },
 "nbformat": 4,
 "nbformat_minor": 5
}
